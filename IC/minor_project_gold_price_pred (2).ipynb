{
 "cells": [
  {
   "cell_type": "code",
   "execution_count": 1,
   "id": "e5424de5",
   "metadata": {},
   "outputs": [],
   "source": [
    "import numpy as np\n",
    "import pandas as pd\n",
    "import pickle\n",
    "import matplotlib.pyplot as plt\n",
    "import seaborn as sns\n",
    "from sklearn.model_selection import train_test_split\n",
    "from sklearn.ensemble import RandomForestRegressor\n",
    "from sklearn import metrics"
   ]
  },
  {
   "cell_type": "code",
   "execution_count": 2,
   "id": "c60f1e6b",
   "metadata": {},
   "outputs": [],
   "source": [
    "gold_data = pd.read_csv(\"gld_price_data.csv\")\n"
   ]
  },
  {
   "cell_type": "code",
   "execution_count": 3,
   "id": "c1c5bd1f",
   "metadata": {},
   "outputs": [
    {
     "data": {
      "text/html": [
       "<div>\n",
       "<style scoped>\n",
       "    .dataframe tbody tr th:only-of-type {\n",
       "        vertical-align: middle;\n",
       "    }\n",
       "\n",
       "    .dataframe tbody tr th {\n",
       "        vertical-align: top;\n",
       "    }\n",
       "\n",
       "    .dataframe thead th {\n",
       "        text-align: right;\n",
       "    }\n",
       "</style>\n",
       "<table border=\"1\" class=\"dataframe\">\n",
       "  <thead>\n",
       "    <tr style=\"text-align: right;\">\n",
       "      <th></th>\n",
       "      <th>Date</th>\n",
       "      <th>SPX</th>\n",
       "      <th>GLD</th>\n",
       "      <th>USO</th>\n",
       "      <th>SLV</th>\n",
       "      <th>EUR/USD</th>\n",
       "    </tr>\n",
       "  </thead>\n",
       "  <tbody>\n",
       "    <tr>\n",
       "      <th>0</th>\n",
       "      <td>1/2/2008</td>\n",
       "      <td>1447.160034</td>\n",
       "      <td>84.860001</td>\n",
       "      <td>78.470001</td>\n",
       "      <td>15.180</td>\n",
       "      <td>1.471692</td>\n",
       "    </tr>\n",
       "    <tr>\n",
       "      <th>1</th>\n",
       "      <td>1/3/2008</td>\n",
       "      <td>1447.160034</td>\n",
       "      <td>85.570000</td>\n",
       "      <td>78.370003</td>\n",
       "      <td>15.285</td>\n",
       "      <td>1.474491</td>\n",
       "    </tr>\n",
       "    <tr>\n",
       "      <th>2</th>\n",
       "      <td>1/4/2008</td>\n",
       "      <td>1411.630005</td>\n",
       "      <td>85.129997</td>\n",
       "      <td>77.309998</td>\n",
       "      <td>15.167</td>\n",
       "      <td>1.475492</td>\n",
       "    </tr>\n",
       "    <tr>\n",
       "      <th>3</th>\n",
       "      <td>1/7/2008</td>\n",
       "      <td>1416.180054</td>\n",
       "      <td>84.769997</td>\n",
       "      <td>75.500000</td>\n",
       "      <td>15.053</td>\n",
       "      <td>1.468299</td>\n",
       "    </tr>\n",
       "    <tr>\n",
       "      <th>4</th>\n",
       "      <td>1/8/2008</td>\n",
       "      <td>1390.189941</td>\n",
       "      <td>86.779999</td>\n",
       "      <td>76.059998</td>\n",
       "      <td>15.590</td>\n",
       "      <td>1.557099</td>\n",
       "    </tr>\n",
       "  </tbody>\n",
       "</table>\n",
       "</div>"
      ],
      "text/plain": [
       "       Date          SPX        GLD        USO     SLV   EUR/USD\n",
       "0  1/2/2008  1447.160034  84.860001  78.470001  15.180  1.471692\n",
       "1  1/3/2008  1447.160034  85.570000  78.370003  15.285  1.474491\n",
       "2  1/4/2008  1411.630005  85.129997  77.309998  15.167  1.475492\n",
       "3  1/7/2008  1416.180054  84.769997  75.500000  15.053  1.468299\n",
       "4  1/8/2008  1390.189941  86.779999  76.059998  15.590  1.557099"
      ]
     },
     "execution_count": 3,
     "metadata": {},
     "output_type": "execute_result"
    }
   ],
   "source": [
    "gold_data.head()"
   ]
  },
  {
   "cell_type": "code",
   "execution_count": 4,
   "id": "7a4e1d74",
   "metadata": {},
   "outputs": [
    {
     "data": {
      "text/plain": [
       "(2290, 6)"
      ]
     },
     "execution_count": 4,
     "metadata": {},
     "output_type": "execute_result"
    }
   ],
   "source": [
    "gold_data.shape\n"
   ]
  },
  {
   "cell_type": "code",
   "execution_count": 5,
   "id": "848bbc1d",
   "metadata": {},
   "outputs": [
    {
     "name": "stdout",
     "output_type": "stream",
     "text": [
      "<class 'pandas.core.frame.DataFrame'>\n",
      "RangeIndex: 2290 entries, 0 to 2289\n",
      "Data columns (total 6 columns):\n",
      " #   Column   Non-Null Count  Dtype  \n",
      "---  ------   --------------  -----  \n",
      " 0   Date     2290 non-null   object \n",
      " 1   SPX      2290 non-null   float64\n",
      " 2   GLD      2290 non-null   float64\n",
      " 3   USO      2290 non-null   float64\n",
      " 4   SLV      2290 non-null   float64\n",
      " 5   EUR/USD  2290 non-null   float64\n",
      "dtypes: float64(5), object(1)\n",
      "memory usage: 107.5+ KB\n"
     ]
    }
   ],
   "source": [
    "gold_data.info()"
   ]
  },
  {
   "cell_type": "code",
   "execution_count": 6,
   "id": "83aa9603",
   "metadata": {},
   "outputs": [
    {
     "data": {
      "text/plain": [
       "Date       0\n",
       "SPX        0\n",
       "GLD        0\n",
       "USO        0\n",
       "SLV        0\n",
       "EUR/USD    0\n",
       "dtype: int64"
      ]
     },
     "execution_count": 6,
     "metadata": {},
     "output_type": "execute_result"
    }
   ],
   "source": [
    "gold_data.isnull().sum()"
   ]
  },
  {
   "cell_type": "code",
   "execution_count": 7,
   "id": "9969d2fa",
   "metadata": {},
   "outputs": [
    {
     "data": {
      "text/html": [
       "<div>\n",
       "<style scoped>\n",
       "    .dataframe tbody tr th:only-of-type {\n",
       "        vertical-align: middle;\n",
       "    }\n",
       "\n",
       "    .dataframe tbody tr th {\n",
       "        vertical-align: top;\n",
       "    }\n",
       "\n",
       "    .dataframe thead th {\n",
       "        text-align: right;\n",
       "    }\n",
       "</style>\n",
       "<table border=\"1\" class=\"dataframe\">\n",
       "  <thead>\n",
       "    <tr style=\"text-align: right;\">\n",
       "      <th></th>\n",
       "      <th>SPX</th>\n",
       "      <th>GLD</th>\n",
       "      <th>USO</th>\n",
       "      <th>SLV</th>\n",
       "      <th>EUR/USD</th>\n",
       "    </tr>\n",
       "  </thead>\n",
       "  <tbody>\n",
       "    <tr>\n",
       "      <th>count</th>\n",
       "      <td>2290.000000</td>\n",
       "      <td>2290.000000</td>\n",
       "      <td>2290.000000</td>\n",
       "      <td>2290.000000</td>\n",
       "      <td>2290.000000</td>\n",
       "    </tr>\n",
       "    <tr>\n",
       "      <th>mean</th>\n",
       "      <td>1654.315776</td>\n",
       "      <td>122.732875</td>\n",
       "      <td>31.842221</td>\n",
       "      <td>20.084997</td>\n",
       "      <td>1.283653</td>\n",
       "    </tr>\n",
       "    <tr>\n",
       "      <th>std</th>\n",
       "      <td>519.111540</td>\n",
       "      <td>23.283346</td>\n",
       "      <td>19.523517</td>\n",
       "      <td>7.092566</td>\n",
       "      <td>0.131547</td>\n",
       "    </tr>\n",
       "    <tr>\n",
       "      <th>min</th>\n",
       "      <td>676.530029</td>\n",
       "      <td>70.000000</td>\n",
       "      <td>7.960000</td>\n",
       "      <td>8.850000</td>\n",
       "      <td>1.039047</td>\n",
       "    </tr>\n",
       "    <tr>\n",
       "      <th>25%</th>\n",
       "      <td>1239.874969</td>\n",
       "      <td>109.725000</td>\n",
       "      <td>14.380000</td>\n",
       "      <td>15.570000</td>\n",
       "      <td>1.171313</td>\n",
       "    </tr>\n",
       "    <tr>\n",
       "      <th>50%</th>\n",
       "      <td>1551.434998</td>\n",
       "      <td>120.580002</td>\n",
       "      <td>33.869999</td>\n",
       "      <td>17.268500</td>\n",
       "      <td>1.303297</td>\n",
       "    </tr>\n",
       "    <tr>\n",
       "      <th>75%</th>\n",
       "      <td>2073.010070</td>\n",
       "      <td>132.840004</td>\n",
       "      <td>37.827501</td>\n",
       "      <td>22.882500</td>\n",
       "      <td>1.369971</td>\n",
       "    </tr>\n",
       "    <tr>\n",
       "      <th>max</th>\n",
       "      <td>2872.870117</td>\n",
       "      <td>184.589996</td>\n",
       "      <td>117.480003</td>\n",
       "      <td>47.259998</td>\n",
       "      <td>1.598798</td>\n",
       "    </tr>\n",
       "  </tbody>\n",
       "</table>\n",
       "</div>"
      ],
      "text/plain": [
       "               SPX          GLD          USO          SLV      EUR/USD\n",
       "count  2290.000000  2290.000000  2290.000000  2290.000000  2290.000000\n",
       "mean   1654.315776   122.732875    31.842221    20.084997     1.283653\n",
       "std     519.111540    23.283346    19.523517     7.092566     0.131547\n",
       "min     676.530029    70.000000     7.960000     8.850000     1.039047\n",
       "25%    1239.874969   109.725000    14.380000    15.570000     1.171313\n",
       "50%    1551.434998   120.580002    33.869999    17.268500     1.303297\n",
       "75%    2073.010070   132.840004    37.827501    22.882500     1.369971\n",
       "max    2872.870117   184.589996   117.480003    47.259998     1.598798"
      ]
     },
     "execution_count": 7,
     "metadata": {},
     "output_type": "execute_result"
    }
   ],
   "source": [
    "gold_data.describe()"
   ]
  },
  {
   "cell_type": "code",
   "execution_count": 8,
   "id": "1baab3b1",
   "metadata": {},
   "outputs": [],
   "source": [
    "correlation = gold_data.corr()"
   ]
  },
  {
   "cell_type": "code",
   "execution_count": 9,
   "id": "52d919c9",
   "metadata": {},
   "outputs": [
    {
     "data": {
      "text/plain": [
       "<AxesSubplot:>"
      ]
     },
     "execution_count": 9,
     "metadata": {},
     "output_type": "execute_result"
    },
    {
     "data": {
      "image/png": "[encoded data removed]",
      "text/plain": [
       "<Figure size 432x288 with 2 Axes>"
      ]
     },
     "metadata": {
      "needs_background": "light"
     },
     "output_type": "display_data"
    }
   ],
   "source": [
    "sns.heatmap(correlation, cbar=True, square=True, fmt='.1f',annot=True, annot_kws={'size':15}, cmap='hot')"
   ]
  },
  {
   "cell_type": "code",
   "execution_count": 10,
   "id": "1a6cfc40",
   "metadata": {},
   "outputs": [
    {
     "name": "stdout",
     "output_type": "stream",
     "text": [
      "SPX        0.049345\n",
      "GLD        1.000000\n",
      "USO       -0.186360\n",
      "SLV        0.866632\n",
      "EUR/USD   -0.024375\n",
      "Name: GLD, dtype: float64\n"
     ]
    }
   ],
   "source": [
    "print(correlation['GLD'])"
   ]
  },
  {
   "cell_type": "code",
   "execution_count": 11,
   "id": "c62d31d4",
   "metadata": {},
   "outputs": [
    {
     "name": "stderr",
     "output_type": "stream",
     "text": [
      "C:\\Users\\dell\\anaconda3\\lib\\site-packages\\seaborn\\distributions.py:2557: FutureWarning: `distplot` is a deprecated function and will be removed in a future version. Please adapt your code to use either `displot` (a figure-level function with similar flexibility) or `histplot` (an axes-level function for histograms).\n",
      "  warnings.warn(msg, FutureWarning)\n"
     ]
    },
    {
     "data": {
      "text/plain": [
       "<AxesSubplot:xlabel='GLD', ylabel='Density'>"
      ]
     },
     "execution_count": 11,
     "metadata": {},
     "output_type": "execute_result"
    },
    {
     "data": {
      "image/png": "[encoded data removed]",
      "text/plain": [
       "<Figure size 432x288 with 1 Axes>"
      ]
     },
     "metadata": {
      "needs_background": "light"
     },
     "output_type": "display_data"
    }
   ],
   "source": [
    "sns.distplot(gold_data['GLD'],color='violet')"
   ]
  },
  {
   "cell_type": "code",
   "execution_count": 12,
   "id": "e965e08e",
   "metadata": {},
   "outputs": [],
   "source": [
    "X = gold_data.drop(['Date','GLD'],axis=1)\n",
    "Y = gold_data['GLD']"
   ]
  },
  {
   "cell_type": "code",
   "execution_count": 13,
   "id": "6395b235",
   "metadata": {},
   "outputs": [
    {
     "name": "stdout",
     "output_type": "stream",
     "text": [
      "              SPX        USO      SLV   EUR/USD\n",
      "0     1447.160034  78.470001  15.1800  1.471692\n",
      "1     1447.160034  78.370003  15.2850  1.474491\n",
      "2     1411.630005  77.309998  15.1670  1.475492\n",
      "3     1416.180054  75.500000  15.0530  1.468299\n",
      "4     1390.189941  76.059998  15.5900  1.557099\n",
      "...           ...        ...      ...       ...\n",
      "2285  2671.919922  14.060000  15.5100  1.186789\n",
      "2286  2697.790039  14.370000  15.5300  1.184722\n",
      "2287  2723.070068  14.410000  15.7400  1.191753\n",
      "2288  2730.129883  14.380000  15.5600  1.193118\n",
      "2289  2725.780029  14.405800  15.4542  1.182033\n",
      "\n",
      "[2290 rows x 4 columns]\n"
     ]
    }
   ],
   "source": [
    "print(X)"
   ]
  },
  {
   "cell_type": "code",
   "execution_count": 14,
   "id": "1da7b7d6",
   "metadata": {},
   "outputs": [
    {
     "name": "stdout",
     "output_type": "stream",
     "text": [
      "0        84.860001\n",
      "1        85.570000\n",
      "2        85.129997\n",
      "3        84.769997\n",
      "4        86.779999\n",
      "           ...    \n",
      "2285    124.589996\n",
      "2286    124.330002\n",
      "2287    125.180000\n",
      "2288    124.489998\n",
      "2289    122.543800\n",
      "Name: GLD, Length: 2290, dtype: float64\n"
     ]
    }
   ],
   "source": [
    "print(Y)"
   ]
  },
  {
   "cell_type": "code",
   "execution_count": 15,
   "id": "4e2a15e0",
   "metadata": {},
   "outputs": [],
   "source": [
    "X_train, X_test, Y_train, Y_test = train_test_split(X, Y, test_size = 0.2, random_state=2)"
   ]
  },
  {
   "cell_type": "code",
   "execution_count": 16,
   "id": "8898a653",
   "metadata": {},
   "outputs": [],
   "source": [
    "\n",
    "regressor = RandomForestRegressor(n_estimators=100)"
   ]
  },
  {
   "cell_type": "code",
   "execution_count": 17,
   "id": "d2863ac7",
   "metadata": {},
   "outputs": [
    {
     "data": {
      "text/plain": [
       "RandomForestRegressor()"
      ]
     },
     "execution_count": 17,
     "metadata": {},
     "output_type": "execute_result"
    }
   ],
   "source": [
    "\n",
    "regressor.fit(X_train,Y_train)"
   ]
  },
  {
   "cell_type": "code",
   "execution_count": 18,
   "id": "a4633b26",
   "metadata": {},
   "outputs": [],
   "source": [
    "pickle.dump(regressor,open('model.pkl', 'wb'))"
   ]
  },
  {
   "cell_type": "code",
   "execution_count": 19,
   "id": "200c4ced",
   "metadata": {},
   "outputs": [],
   "source": [
    "model = pickle.load(open('model.pkl', 'rb'))"
   ]
  },
  {
   "cell_type": "code",
   "execution_count": 20,
   "id": "a885433c",
   "metadata": {},
   "outputs": [
    {
     "name": "stdout",
     "output_type": "stream",
     "text": [
      "[151.09829857]\n"
     ]
    }
   ],
   "source": [
    "print(model.predict([[1/3/2008,1447.160034,85.57,78.370003]]))"
   ]
  },
  {
   "cell_type": "code",
   "execution_count": 21,
   "id": "437496f2",
   "metadata": {},
   "outputs": [],
   "source": [
    "\n",
    "test_data_prediction = regressor.predict(X_test)"
   ]
  },
  {
   "cell_type": "code",
   "execution_count": 22,
   "id": "73d3bcd0",
   "metadata": {},
   "outputs": [
    {
     "name": "stdout",
     "output_type": "stream",
     "text": [
      "[168.20739931  82.26609974 116.08130029 127.73530111 120.71480107\n",
      " 154.81819745 149.92539893 126.32130066 117.30409875 126.07940036\n",
      " 116.40720127 172.21580109 141.07129898 167.90289807 115.17399995\n",
      " 117.55320045 138.19910233 169.9884008  159.48050328 160.06239871\n",
      " 155.09410007 125.39700039 176.3205001  156.99010319 125.22980062\n",
      "  93.6783996   77.03170011 120.57160008 119.02829925 167.46239978\n",
      "  88.09690055 125.41500021  91.13260053 117.62040005 121.18939891\n",
      " 136.58140112 115.58900059 115.36880056 146.72469929 107.0355012\n",
      " 104.52130245  87.19269795 126.44440105 117.76729987 154.72999945\n",
      " 119.78580004 108.33260028 108.19809868  93.1584008  127.13009794\n",
      "  74.80850006 113.7330995  121.23609995 111.27499904 119.02549906\n",
      " 120.70639944 158.47739969 166.65430158 146.69369655  85.85739885\n",
      "  94.57500028  86.79409875  90.40600039 119.03670063 126.4477009\n",
      " 127.43120002 169.94209973 122.39719919 117.4713994   98.63460035\n",
      " 167.8015012  143.19869844 132.31440241 121.17920233 121.60189929\n",
      " 119.61250065 114.52110196 118.26110064 106.75580108 128.04020038\n",
      " 114.07369941 106.95760018 117.03800029 119.78049876  89.31240049\n",
      "  88.23329855 146.389203   127.19470035 113.47820046 110.51869822\n",
      " 108.25289903  77.19049905 168.93150159 114.10759916 121.5376993\n",
      " 127.59910143 155.06709764  91.78629963 136.31430093 158.7795034\n",
      " 125.52490063 125.65370017 130.61640143 114.80890147 119.85960015\n",
      "  92.12519992 110.52659858 168.08639924 156.99669906 114.22349958\n",
      " 106.7344013   80.1067996  113.35030024 125.76290072 107.27869919\n",
      " 119.25910074 155.67130316 159.26589853 120.2878999  134.7982031\n",
      " 101.50789966 117.70069792 119.3313002  112.90890068 102.80119945\n",
      " 159.61219831  99.62140096 148.62619927 125.62460079 170.13109887\n",
      " 125.80129864 127.34889746 127.49340177 113.91229915 113.01800056\n",
      " 123.66309907 102.19979911  89.51989965 124.42919946 101.3219995\n",
      " 107.17449881 113.36290056 117.25940053  99.24919976 121.60690061\n",
      " 163.12829894  87.52259879 106.77849989 117.3439007  127.81570091\n",
      " 123.96810085  80.81289935 120.41130065 159.08619813  87.98399959\n",
      " 110.34519939 119.13969945 172.62659885 103.06269885 105.46640032\n",
      " 122.41840042 158.95029749  87.5469984   93.41490052 112.56720027\n",
      " 177.79659991 114.25029979 119.32140024  94.4342007  125.66189986\n",
      " 165.90820053 114.8477008  116.75730125  88.32949864 148.50770078\n",
      " 120.29869969  89.5182998  111.92589964 117.48700042 118.84550137\n",
      "  88.0141994   94.14649984 116.97020042 118.61390202 120.34040065\n",
      " 126.75359796 121.88210019 148.68679974 165.3811012  118.74969949\n",
      " 120.34870121 151.4824006  118.5963992  173.25769885 105.24769939\n",
      " 104.93700149 149.26700073 113.57400096 124.89530133 147.15520022\n",
      " 119.62720119 115.29240071 112.23619988 113.49420192 141.86290154\n",
      " 117.87649764 102.92500063 115.73370082 104.05470174  98.79610046\n",
      " 117.17720083  90.64060016  91.38400039 153.51769915 102.68669982\n",
      " 155.05360073 114.41050175 137.99500166  90.23149814 115.43899936\n",
      " 114.55819965 122.75490011 121.76140046 165.36340161  92.83569956\n",
      " 135.36790115 121.34349958 120.69670069 104.76100007 143.1075022\n",
      " 121.87729915 116.48970037 113.31400101 126.87089755 122.34019965\n",
      " 125.81049988 121.24690031  86.82669892 132.29740123 145.97410139\n",
      "  92.72429924 159.39159995 158.70190296 126.18269913 164.80809948\n",
      " 108.7363997  109.54700014 103.78269833  94.31440045 127.91890288\n",
      " 107.17480027 162.02409995 121.5514006  131.95000041 130.63940101\n",
      " 160.20539912  90.23789838 175.6828016  127.04419994 126.88229798\n",
      "  86.47759922 124.55169914 150.17839744  89.69660013 107.0935998\n",
      " 109.02989989  84.46869884 135.75799978 155.04400162 140.42890222\n",
      "  74.29920022 152.61840112 126.33550038 126.7583998  127.43559922\n",
      " 108.53809926 156.41350012 114.48710136 116.9529016  125.51819958\n",
      " 153.98680108 121.24000008 156.27569948  92.80730047 125.41810141\n",
      " 125.4919003   87.88270069  92.15719944 126.13659904 128.87170468\n",
      " 113.27190054 117.76249768 120.87350022 126.92049795 119.67300137\n",
      " 136.36630067  94.02339942 119.77700035 112.88780127  94.39019943\n",
      " 108.94599948  87.72869928 108.70039932  89.77389972  92.41770053\n",
      " 131.45970321 162.39970043  89.2865003  119.51920089 133.52260195\n",
      " 123.79070026 128.48280196 101.9097985   88.9896985  131.91660068\n",
      " 120.09970069 108.44910008 168.41350057 115.18660035  86.58039863\n",
      " 118.93270068  91.0981995  162.03390123 116.55900038 121.5754002\n",
      " 159.91579801 120.23759922 112.55909957 108.5082987  126.77250007\n",
      "  75.99330034 102.96499986 127.74730261 121.9013989   92.60430021\n",
      " 132.03530055 118.15520068 116.01339979 154.84630292 158.6975003\n",
      " 109.90389973 155.14349785 119.27700067 160.09120039 118.44790012\n",
      " 157.7416996  115.09329886 116.57590034 148.93379855 114.78540094\n",
      " 125.34989862 166.36879916 117.7438002  124.85439946 153.24700374\n",
      " 153.49900188 132.12429977 114.73710022 121.3273018  124.64500059\n",
      "  89.77410072 123.17959972 154.85320188 111.84070051 106.91379951\n",
      " 162.1191016  118.55739992 165.76039991 134.1777004  114.98599938\n",
      " 153.02889925 168.60729981 114.58089999 113.99590086 159.87009952\n",
      "  85.11159914 127.18190027 128.00960026 128.73850007 124.22730083\n",
      " 123.88440071  90.31530091 152.97290101  97.18109965 137.96769993\n",
      "  88.99329941 106.86520029 115.05950056 112.78520109 124.08299938\n",
      "  91.44769867 125.33560105 162.59039898 119.93049874 164.93190087\n",
      " 126.72499811 112.34540018 127.44399971  94.74489947  91.11519969\n",
      " 102.68599914 120.93230014  82.95859943 126.47349974 160.240505\n",
      " 117.23720069 118.10019973 119.92730003 122.68659941 120.11040157\n",
      " 121.47409982 118.39610057 107.00140009 147.73309973 126.4487986\n",
      " 115.65770062  74.07870012 127.9535017  154.3432006  122.36590015\n",
      " 125.63080013  88.73200039 103.92199888 123.9601008  120.27220026\n",
      "  73.35090098 151.81420012 120.98060017 104.63110023  86.49309812\n",
      " 115.24449917 172.22329886 119.8890003  159.93299777 113.24299961\n",
      " 121.36940044 118.74270077  96.00089989 118.8603     125.91760057\n",
      " 118.53019948  95.86810073 153.99160136 122.10410023 147.68460034\n",
      " 158.77710253 113.8613999  122.6422992  149.54919825 127.3266003\n",
      " 165.90560031 135.67480058 120.00829949 167.87369848 108.48769958\n",
      " 121.72489869 139.921202   106.55619872]\n"
     ]
    }
   ],
   "source": [
    "print(test_data_prediction)\n"
   ]
  },
  {
   "cell_type": "code",
   "execution_count": 23,
   "id": "92fc617b",
   "metadata": {},
   "outputs": [
    {
     "name": "stdout",
     "output_type": "stream",
     "text": [
      "R squared error:  98.95029671373598 %\n"
     ]
    }
   ],
   "source": [
    "# error score calculation on the actual data i.e Y_test and predicted data - test_data_prediction\n",
    "error_score = metrics.r2_score(Y_test, test_data_prediction)\n",
    "print(\"R squared error: \", error_score*100,\"%\") "
   ]
  },
  {
   "cell_type": "code",
   "execution_count": 24,
   "id": "ed98b504",
   "metadata": {},
   "outputs": [],
   "source": [
    "#real good error as compared to the values \n",
    "#Comparison of actual and predicted values\n",
    "Y_test = list(Y_test)"
   ]
  },
  {
   "cell_type": "code",
   "execution_count": 25,
   "id": "ea2af041",
   "metadata": {},
   "outputs": [
    {
     "data": {
      "image/png": "[encoded data removed]",
      "text/plain": [
       "<Figure size 432x288 with 1 Axes>"
      ]
     },
     "metadata": {
      "needs_background": "light"
     },
     "output_type": "display_data"
    }
   ],
   "source": [
    "\n",
    "plt.plot(Y_test, color = 'red', label = 'Actual Value')\n",
    "plt.plot(test_data_prediction, color='black', label= 'Predicted Value')\n",
    "plt.title('Actual Price VS Predicted Price ')\n",
    "plt.xlabel('Number of Values ')\n",
    "plt.ylabel('Gold Price')\n",
    "plt.legend()\n",
    "plt.show()"
   ]
  },
  {
   "cell_type": "code",
   "execution_count": null,
   "id": "348c09de",
   "metadata": {},
   "outputs": [],
   "source": []
  },
  {
   "cell_type": "code",
   "execution_count": null,
   "id": "b0345143",
   "metadata": {},
   "outputs": [],
   "source": []
  }
 ],
 "metadata": {
  "kernelspec": {
   "display_name": "Python 3",
   "language": "python",
   "name": "python3"
  },
  "language_info": {
   "codemirror_mode": {
    "name": "ipython",
    "version": 3
   },
   "file_extension": ".py",
   "mimetype": "text/x-python",
   "name": "python",
   "nbconvert_exporter": "python",
   "pygments_lexer": "ipython3",
   "version": "3.8.8"
  }
 },
 "nbformat": 4,
 "nbformat_minor": 5
}
