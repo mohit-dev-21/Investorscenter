{
 "cells": [
  {
   "cell_type": "code",
   "execution_count": 25,
   "id": "e5424de5",
   "metadata": {},
   "outputs": [],
   "source": [
    "import numpy as np\n",
    "import pandas as pd\n",
    "import pickle\n",
    "import matplotlib.pyplot as plt\n",
    "import seaborn as sns\n",
    "from sklearn.model_selection import train_test_split\n",
    "from sklearn.ensemble import RandomForestRegressor\n",
    "from sklearn import metrics"
   ]
  },
  {
   "cell_type": "code",
   "execution_count": 26,
   "id": "c60f1e6b",
   "metadata": {},
   "outputs": [],
   "source": [
    "gold_data = pd.read_csv(\"gld_price_data.csv\")\n"
   ]
  },
  {
   "cell_type": "code",
   "execution_count": 27,
   "id": "c1c5bd1f",
   "metadata": {},
   "outputs": [
    {
     "data": {
      "text/html": [
       "<div>\n",
       "<style scoped>\n",
       "    .dataframe tbody tr th:only-of-type {\n",
       "        vertical-align: middle;\n",
       "    }\n",
       "\n",
       "    .dataframe tbody tr th {\n",
       "        vertical-align: top;\n",
       "    }\n",
       "\n",
       "    .dataframe thead th {\n",
       "        text-align: right;\n",
       "    }\n",
       "</style>\n",
       "<table border=\"1\" class=\"dataframe\">\n",
       "  <thead>\n",
       "    <tr style=\"text-align: right;\">\n",
       "      <th></th>\n",
       "      <th>Date</th>\n",
       "      <th>SPX</th>\n",
       "      <th>GLD</th>\n",
       "      <th>USO</th>\n",
       "      <th>SLV</th>\n",
       "      <th>EUR/USD</th>\n",
       "    </tr>\n",
       "  </thead>\n",
       "  <tbody>\n",
       "    <tr>\n",
       "      <th>0</th>\n",
       "      <td>1/2/2008</td>\n",
       "      <td>1447.160034</td>\n",
       "      <td>84.860001</td>\n",
       "      <td>78.470001</td>\n",
       "      <td>15.180</td>\n",
       "      <td>1.471692</td>\n",
       "    </tr>\n",
       "    <tr>\n",
       "      <th>1</th>\n",
       "      <td>1/3/2008</td>\n",
       "      <td>1447.160034</td>\n",
       "      <td>85.570000</td>\n",
       "      <td>78.370003</td>\n",
       "      <td>15.285</td>\n",
       "      <td>1.474491</td>\n",
       "    </tr>\n",
       "    <tr>\n",
       "      <th>2</th>\n",
       "      <td>1/4/2008</td>\n",
       "      <td>1411.630005</td>\n",
       "      <td>85.129997</td>\n",
       "      <td>77.309998</td>\n",
       "      <td>15.167</td>\n",
       "      <td>1.475492</td>\n",
       "    </tr>\n",
       "    <tr>\n",
       "      <th>3</th>\n",
       "      <td>1/7/2008</td>\n",
       "      <td>1416.180054</td>\n",
       "      <td>84.769997</td>\n",
       "      <td>75.500000</td>\n",
       "      <td>15.053</td>\n",
       "      <td>1.468299</td>\n",
       "    </tr>\n",
       "    <tr>\n",
       "      <th>4</th>\n",
       "      <td>1/8/2008</td>\n",
       "      <td>1390.189941</td>\n",
       "      <td>86.779999</td>\n",
       "      <td>76.059998</td>\n",
       "      <td>15.590</td>\n",
       "      <td>1.557099</td>\n",
       "    </tr>\n",
       "  </tbody>\n",
       "</table>\n",
       "</div>"
      ],
      "text/plain": [
       "       Date          SPX        GLD        USO     SLV   EUR/USD\n",
       "0  1/2/2008  1447.160034  84.860001  78.470001  15.180  1.471692\n",
       "1  1/3/2008  1447.160034  85.570000  78.370003  15.285  1.474491\n",
       "2  1/4/2008  1411.630005  85.129997  77.309998  15.167  1.475492\n",
       "3  1/7/2008  1416.180054  84.769997  75.500000  15.053  1.468299\n",
       "4  1/8/2008  1390.189941  86.779999  76.059998  15.590  1.557099"
      ]
     },
     "execution_count": 27,
     "metadata": {},
     "output_type": "execute_result"
    }
   ],
   "source": [
    "gold_data.head()"
   ]
  },
  {
   "cell_type": "code",
   "execution_count": 28,
   "id": "7a4e1d74",
   "metadata": {},
   "outputs": [
    {
     "data": {
      "text/plain": [
       "(2290, 6)"
      ]
     },
     "execution_count": 28,
     "metadata": {},
     "output_type": "execute_result"
    }
   ],
   "source": [
    "gold_data.shape\n"
   ]
  },
  {
   "cell_type": "code",
   "execution_count": 29,
   "id": "848bbc1d",
   "metadata": {},
   "outputs": [
    {
     "name": "stdout",
     "output_type": "stream",
     "text": [
      "<class 'pandas.core.frame.DataFrame'>\n",
      "RangeIndex: 2290 entries, 0 to 2289\n",
      "Data columns (total 6 columns):\n",
      " #   Column   Non-Null Count  Dtype  \n",
      "---  ------   --------------  -----  \n",
      " 0   Date     2290 non-null   object \n",
      " 1   SPX      2290 non-null   float64\n",
      " 2   GLD      2290 non-null   float64\n",
      " 3   USO      2290 non-null   float64\n",
      " 4   SLV      2290 non-null   float64\n",
      " 5   EUR/USD  2290 non-null   float64\n",
      "dtypes: float64(5), object(1)\n",
      "memory usage: 107.5+ KB\n"
     ]
    }
   ],
   "source": [
    "gold_data.info()"
   ]
  },
  {
   "cell_type": "code",
   "execution_count": 30,
   "id": "83aa9603",
   "metadata": {},
   "outputs": [
    {
     "data": {
      "text/plain": [
       "Date       0\n",
       "SPX        0\n",
       "GLD        0\n",
       "USO        0\n",
       "SLV        0\n",
       "EUR/USD    0\n",
       "dtype: int64"
      ]
     },
     "execution_count": 30,
     "metadata": {},
     "output_type": "execute_result"
    }
   ],
   "source": [
    "gold_data.isnull().sum()"
   ]
  },
  {
   "cell_type": "code",
   "execution_count": 31,
   "id": "9969d2fa",
   "metadata": {},
   "outputs": [
    {
     "data": {
      "text/html": [
       "<div>\n",
       "<style scoped>\n",
       "    .dataframe tbody tr th:only-of-type {\n",
       "        vertical-align: middle;\n",
       "    }\n",
       "\n",
       "    .dataframe tbody tr th {\n",
       "        vertical-align: top;\n",
       "    }\n",
       "\n",
       "    .dataframe thead th {\n",
       "        text-align: right;\n",
       "    }\n",
       "</style>\n",
       "<table border=\"1\" class=\"dataframe\">\n",
       "  <thead>\n",
       "    <tr style=\"text-align: right;\">\n",
       "      <th></th>\n",
       "      <th>SPX</th>\n",
       "      <th>GLD</th>\n",
       "      <th>USO</th>\n",
       "      <th>SLV</th>\n",
       "      <th>EUR/USD</th>\n",
       "    </tr>\n",
       "  </thead>\n",
       "  <tbody>\n",
       "    <tr>\n",
       "      <th>count</th>\n",
       "      <td>2290.000000</td>\n",
       "      <td>2290.000000</td>\n",
       "      <td>2290.000000</td>\n",
       "      <td>2290.000000</td>\n",
       "      <td>2290.000000</td>\n",
       "    </tr>\n",
       "    <tr>\n",
       "      <th>mean</th>\n",
       "      <td>1654.315776</td>\n",
       "      <td>122.732875</td>\n",
       "      <td>31.842221</td>\n",
       "      <td>20.084997</td>\n",
       "      <td>1.283653</td>\n",
       "    </tr>\n",
       "    <tr>\n",
       "      <th>std</th>\n",
       "      <td>519.111540</td>\n",
       "      <td>23.283346</td>\n",
       "      <td>19.523517</td>\n",
       "      <td>7.092566</td>\n",
       "      <td>0.131547</td>\n",
       "    </tr>\n",
       "    <tr>\n",
       "      <th>min</th>\n",
       "      <td>676.530029</td>\n",
       "      <td>70.000000</td>\n",
       "      <td>7.960000</td>\n",
       "      <td>8.850000</td>\n",
       "      <td>1.039047</td>\n",
       "    </tr>\n",
       "    <tr>\n",
       "      <th>25%</th>\n",
       "      <td>1239.874969</td>\n",
       "      <td>109.725000</td>\n",
       "      <td>14.380000</td>\n",
       "      <td>15.570000</td>\n",
       "      <td>1.171313</td>\n",
       "    </tr>\n",
       "    <tr>\n",
       "      <th>50%</th>\n",
       "      <td>1551.434998</td>\n",
       "      <td>120.580002</td>\n",
       "      <td>33.869999</td>\n",
       "      <td>17.268500</td>\n",
       "      <td>1.303297</td>\n",
       "    </tr>\n",
       "    <tr>\n",
       "      <th>75%</th>\n",
       "      <td>2073.010070</td>\n",
       "      <td>132.840004</td>\n",
       "      <td>37.827501</td>\n",
       "      <td>22.882500</td>\n",
       "      <td>1.369971</td>\n",
       "    </tr>\n",
       "    <tr>\n",
       "      <th>max</th>\n",
       "      <td>2872.870117</td>\n",
       "      <td>184.589996</td>\n",
       "      <td>117.480003</td>\n",
       "      <td>47.259998</td>\n",
       "      <td>1.598798</td>\n",
       "    </tr>\n",
       "  </tbody>\n",
       "</table>\n",
       "</div>"
      ],
      "text/plain": [
       "               SPX          GLD          USO          SLV      EUR/USD\n",
       "count  2290.000000  2290.000000  2290.000000  2290.000000  2290.000000\n",
       "mean   1654.315776   122.732875    31.842221    20.084997     1.283653\n",
       "std     519.111540    23.283346    19.523517     7.092566     0.131547\n",
       "min     676.530029    70.000000     7.960000     8.850000     1.039047\n",
       "25%    1239.874969   109.725000    14.380000    15.570000     1.171313\n",
       "50%    1551.434998   120.580002    33.869999    17.268500     1.303297\n",
       "75%    2073.010070   132.840004    37.827501    22.882500     1.369971\n",
       "max    2872.870117   184.589996   117.480003    47.259998     1.598798"
      ]
     },
     "execution_count": 31,
     "metadata": {},
     "output_type": "execute_result"
    }
   ],
   "source": [
    "gold_data.describe()"
   ]
  },
  {
   "cell_type": "code",
   "execution_count": 32,
   "id": "1baab3b1",
   "metadata": {},
   "outputs": [],
   "source": [
    "correlation = gold_data.corr()"
   ]
  },
  {
   "cell_type": "code",
   "execution_count": 33,
   "id": "52d919c9",
   "metadata": {},
   "outputs": [
    {
     "data": {
      "text/plain": [
       "<AxesSubplot:>"
      ]
     },
     "execution_count": 33,
     "metadata": {},
     "output_type": "execute_result"
    },
    {
     "data": {
      "image/png": "[encoded data removed]",
      "text/plain": [
       "<Figure size 432x288 with 2 Axes>"
      ]
     },
     "metadata": {
      "needs_background": "light"
     },
     "output_type": "display_data"
    }
   ],
   "source": [
    "sns.heatmap(correlation, cbar=True, square=True, fmt='.1f',annot=True, annot_kws={'size':15}, cmap='hot')"
   ]
  },
  {
   "cell_type": "code",
   "execution_count": 34,
   "id": "1a6cfc40",
   "metadata": {},
   "outputs": [
    {
     "name": "stdout",
     "output_type": "stream",
     "text": [
      "SPX        0.049345\n",
      "GLD        1.000000\n",
      "USO       -0.186360\n",
      "SLV        0.866632\n",
      "EUR/USD   -0.024375\n",
      "Name: GLD, dtype: float64\n"
     ]
    }
   ],
   "source": [
    "print(correlation['GLD'])"
   ]
  },
  {
   "cell_type": "code",
   "execution_count": 35,
   "id": "c62d31d4",
   "metadata": {},
   "outputs": [
    {
     "name": "stderr",
     "output_type": "stream",
     "text": [
      "C:\\Users\\dell\\anaconda3\\lib\\site-packages\\seaborn\\distributions.py:2557: FutureWarning: `distplot` is a deprecated function and will be removed in a future version. Please adapt your code to use either `displot` (a figure-level function with similar flexibility) or `histplot` (an axes-level function for histograms).\n",
      "  warnings.warn(msg, FutureWarning)\n"
     ]
    },
    {
     "data": {
      "text/plain": [
       "<AxesSubplot:xlabel='GLD', ylabel='Density'>"
      ]
     },
     "execution_count": 35,
     "metadata": {},
     "output_type": "execute_result"
    },
    {
     "data": {
      "image/png": "[encoded data removed]",
      "text/plain": [
       "<Figure size 432x288 with 1 Axes>"
      ]
     },
     "metadata": {
      "needs_background": "light"
     },
     "output_type": "display_data"
    }
   ],
   "source": [
    "sns.distplot(gold_data['GLD'],color='violet')"
   ]
  },
  {
   "cell_type": "code",
   "execution_count": 36,
   "id": "e965e08e",
   "metadata": {},
   "outputs": [],
   "source": [
    "X = gold_data.drop(['Date','GLD'],axis=1)\n",
    "Y = gold_data['GLD']"
   ]
  },
  {
   "cell_type": "code",
   "execution_count": 37,
   "id": "6395b235",
   "metadata": {},
   "outputs": [
    {
     "name": "stdout",
     "output_type": "stream",
     "text": [
      "              SPX        USO      SLV   EUR/USD\n",
      "0     1447.160034  78.470001  15.1800  1.471692\n",
      "1     1447.160034  78.370003  15.2850  1.474491\n",
      "2     1411.630005  77.309998  15.1670  1.475492\n",
      "3     1416.180054  75.500000  15.0530  1.468299\n",
      "4     1390.189941  76.059998  15.5900  1.557099\n",
      "...           ...        ...      ...       ...\n",
      "2285  2671.919922  14.060000  15.5100  1.186789\n",
      "2286  2697.790039  14.370000  15.5300  1.184722\n",
      "2287  2723.070068  14.410000  15.7400  1.191753\n",
      "2288  2730.129883  14.380000  15.5600  1.193118\n",
      "2289  2725.780029  14.405800  15.4542  1.182033\n",
      "\n",
      "[2290 rows x 4 columns]\n"
     ]
    }
   ],
   "source": [
    "print(X)"
   ]
  },
  {
   "cell_type": "code",
   "execution_count": 38,
   "id": "1da7b7d6",
   "metadata": {},
   "outputs": [
    {
     "name": "stdout",
     "output_type": "stream",
     "text": [
      "0        84.860001\n",
      "1        85.570000\n",
      "2        85.129997\n",
      "3        84.769997\n",
      "4        86.779999\n",
      "           ...    \n",
      "2285    124.589996\n",
      "2286    124.330002\n",
      "2287    125.180000\n",
      "2288    124.489998\n",
      "2289    122.543800\n",
      "Name: GLD, Length: 2290, dtype: float64\n"
     ]
    }
   ],
   "source": [
    "print(Y)"
   ]
  },
  {
   "cell_type": "code",
   "execution_count": 39,
   "id": "4e2a15e0",
   "metadata": {},
   "outputs": [],
   "source": [
    "X_train, X_test, Y_train, Y_test = train_test_split(X, Y, test_size = 0.2, random_state=2)"
   ]
  },
  {
   "cell_type": "code",
   "execution_count": 40,
   "id": "8898a653",
   "metadata": {},
   "outputs": [],
   "source": [
    "\n",
    "regressor = RandomForestRegressor(n_estimators=100)"
   ]
  },
  {
   "cell_type": "code",
   "execution_count": 41,
   "id": "d2863ac7",
   "metadata": {},
   "outputs": [
    {
     "data": {
      "text/plain": [
       "RandomForestRegressor()"
      ]
     },
     "execution_count": 41,
     "metadata": {},
     "output_type": "execute_result"
    }
   ],
   "source": [
    "\n",
    "regressor.fit(X_train,Y_train)"
   ]
  },
  {
   "cell_type": "code",
   "execution_count": 42,
   "id": "a4633b26",
   "metadata": {},
   "outputs": [],
   "source": [
    "pickle.dump(regressor,open('model.pkl', 'wb'))"
   ]
  },
  {
   "cell_type": "code",
   "execution_count": 43,
   "id": "200c4ced",
   "metadata": {},
   "outputs": [],
   "source": [
    "model = pickle.load(open('model.pkl', 'rb'))"
   ]
  },
  {
   "cell_type": "code",
   "execution_count": 47,
   "id": "a885433c",
   "metadata": {},
   "outputs": [
    {
     "name": "stdout",
     "output_type": "stream",
     "text": [
      "[152.78299809]\n"
     ]
    }
   ],
   "source": [
    "print(model.predict([[1/3/2008,1447.160034,85.57,78.370003]]))"
   ]
  },
  {
   "cell_type": "code",
   "execution_count": 18,
   "id": "437496f2",
   "metadata": {},
   "outputs": [],
   "source": [
    "\n",
    "test_data_prediction = regressor.predict(X_test)"
   ]
  },
  {
   "cell_type": "code",
   "execution_count": 19,
   "id": "73d3bcd0",
   "metadata": {},
   "outputs": [
    {
     "name": "stdout",
     "output_type": "stream",
     "text": [
      "[168.49779882  81.90519983 116.23040036 127.59990086 120.82830135\n",
      " 154.71239772 150.4417994  126.04490031 117.57669874 126.13620051\n",
      " 116.53170123 172.72510068 141.69779896 167.72829828 115.2452999\n",
      " 117.86010023 139.46460236 170.2473005  158.90300183 155.32729918\n",
      " 155.06319999 125.33170007 176.73069874 157.26690352 125.11280055\n",
      "  93.85059988  77.44820015 120.53110016 119.0864992  167.49249938\n",
      "  88.01450009 125.07690015  91.38150062 117.76660055 121.15389901\n",
      " 136.94390156 115.76800122 115.03610036 146.48979905 107.09450071\n",
      " 104.37670253  87.31839789 126.5590007  117.95930036 153.71029972\n",
      " 119.69040022 108.34579985 107.82159802  93.25790056 127.0385982\n",
      "  75.32350023 113.61789911 121.06329974 111.32249929 118.84269899\n",
      " 120.78859931 158.83650045 168.02760115 146.86089705  85.67409856\n",
      "  94.18040036  86.97379861  90.58560031 118.89920081 126.42560074\n",
      " 127.54920049 169.10409937 122.32139912 117.38319893  98.49590029\n",
      " 167.44500022 142.89279821 132.25930251 121.09580228 120.97759946\n",
      " 119.69380075 114.45170125 118.35000073 107.28310095 127.88660064\n",
      " 113.69949992 107.34089973 116.73440057 119.55659861  89.25300003\n",
      "  88.21059856 146.44200227 127.39300049 113.2669003  109.94429828\n",
      " 108.09419924  77.44719904 169.96290234 114.0817991  121.57929934\n",
      " 127.93810192 155.00769789  91.53699924 135.37100117 158.78410315\n",
      " 124.66390079 125.38170071 130.60830265 114.80890115 119.83669995\n",
      "  92.11609981 110.24489868 165.71559904 157.31559875 114.17969953\n",
      " 106.59250146  79.33070006 113.28040063 125.82500086 107.38589919\n",
      " 119.52780103 156.07730318 159.7664979  119.87390005 134.84890287\n",
      " 101.41340008 117.49919815 119.21130025 112.91560103 102.78559892\n",
      " 160.51859802  99.10740038 147.03949845 125.63660086 170.5691997\n",
      " 125.647699   127.26419785 127.48880238 113.88259926 113.19560064\n",
      " 123.54369909 102.25459899  89.23589988 124.55769959 101.96059952\n",
      " 107.14829877 113.64320053 117.32450057  99.28549968 121.71800064\n",
      " 163.2203995   87.47679837 106.50799995 117.00240088 127.67950147\n",
      " 124.0775006   80.98249929 120.43730066 158.05209735  87.81479979\n",
      " 110.09509952 118.61239906 173.23179828 102.95639918 105.53350032\n",
      " 122.43430022 158.23099701  87.81099813  93.38320079 112.14760059\n",
      " 177.92579895 114.35559982 119.16280018  94.44510079 125.81130024\n",
      " 165.92940031 114.64130056 116.62660128  88.28619868 148.89190077\n",
      " 120.35259946  89.46739983 111.41920038 117.43420094 118.50450098\n",
      "  88.11589976  94.04939993 117.31420004 118.43690222 120.48450025\n",
      " 126.92569832 121.92049967 150.67920027 166.00890076 118.51939965\n",
      " 120.18940131 151.72380066 118.68139925 173.48089851 105.58939934\n",
      " 105.07650085 149.23790099 113.88270058 124.93360123 147.25840015\n",
      " 119.68680112 115.19730061 112.47840017 113.30630193 139.74030138\n",
      " 117.9827976  102.93970014 115.90660102 103.90800175  99.00420041\n",
      " 117.27660093  90.5698002   91.78050055 153.40679891 102.66159979\n",
      " 154.22710092 114.25930186 139.18450109  90.14609842 115.53959924\n",
      " 114.49899968 122.79250055 121.75760036 165.58040173  92.80879948\n",
      " 135.35640111 121.32609965 120.79300037 104.48160023 143.91710226\n",
      " 121.5683991  116.77310058 113.45620101 127.10629726 122.59239948\n",
      " 125.78799959 121.26490042  86.97519883 132.48420128 146.02590194\n",
      "  92.68939963 158.66370018 158.28790244 126.15069964 165.60509951\n",
      " 108.81429926 110.16860077 103.69839854  94.28540108 128.01380317\n",
      " 107.13260033 162.97049966 121.61800058 131.82209976 130.60860219\n",
      " 160.42170054  90.09589863 176.21110207 126.55130028 126.84049882\n",
      "  86.08999898 124.55239945 150.06359676  89.68920022 106.70249991\n",
      " 109.01899978  83.956399   136.35330104 155.10940268 139.14400302\n",
      "  73.27530039 152.77890061 126.08680023 126.78629968 127.64029866\n",
      " 108.5915999  156.23879967 114.39700084 116.96960128 125.49359957\n",
      " 153.91820157 121.24649963 156.40609866  93.01120061 125.52030169\n",
      " 125.53650043  88.11190075  92.06719914 126.28529916 128.39070332\n",
      " 113.23460042 117.91319741 120.93699982 127.07279818 119.40710133\n",
      " 136.51200104  93.89819941 119.94570002 113.16740103  94.28919943\n",
      " 108.87670031  86.36479894 109.34469918  89.50700015  92.40890044\n",
      " 131.62240282 162.35740091  89.4042997  119.53940079 133.36320169\n",
      " 123.7258     128.13550148 102.05719846  89.14169831 131.97890115\n",
      " 119.88210058 109.12839971 169.17930074 115.31350075  86.58879922\n",
      " 118.70580052  90.99019972 161.92070028 116.50470062 121.35409976\n",
      " 160.31109751 120.08609914 112.4569994  108.41989857 126.75060026\n",
      "  76.37990034 102.98509964 127.68690249 121.78629893  92.54709994\n",
      " 132.87880004 118.39350133 115.80159983 154.62500264 159.70240084\n",
      " 110.02049931 151.2904972  119.27520099 160.61930054 118.77700074\n",
      " 157.28489935 115.02809929 116.48300021 149.82699892 114.70920062\n",
      " 125.69759861 166.06650054 117.31880014 124.98879928 153.17770369\n",
      " 153.60830226 132.09980065 114.68020027 121.20860205 125.08980092\n",
      "  89.70920053 122.9693     154.99290174 111.67160032 106.52690012\n",
      " 162.02610143 118.41629998 165.75239957 133.91920136 114.77019974\n",
      " 152.97509931 168.66919999 114.92529999 114.10640126 160.14859903\n",
      "  85.33099879 127.11590054 127.97080051 128.83399977 124.4483007\n",
      " 124.19940082  90.60690068 153.24890022  97.0207997  136.62600038\n",
      "  88.74599897 107.36639975 115.00260038 112.39250107 124.21329916\n",
      "  91.43309888 125.29340097 162.51659896 120.01119899 165.10130109\n",
      " 126.80549828 112.28230004 127.6246994   94.73289905  91.00589979\n",
      " 103.10319912 120.84759988  82.91109945 126.24840021 159.99750453\n",
      " 117.20780091 118.19909947 119.84810011 122.81049945 120.10040141\n",
      " 121.37480004 117.85110062 107.05829962 148.4631007  126.19009833\n",
      " 115.79190071  74.10999998 127.76150066 154.0594009  121.98779993\n",
      " 125.53490064  88.8373     103.00789856 124.76580058 120.32009992\n",
      "  73.29480083 151.98129941 121.16270017 104.99099982  86.58529789\n",
      " 115.2028994  172.20229796 119.92730024 158.99749738 113.20509937\n",
      " 121.05390018 118.734001    95.9704999  119.05320028 125.81700005\n",
      " 118.41969976  95.78890044 154.10260185 121.97469994 147.33950026\n",
      " 158.85790178 113.86220018 122.55519935 150.43219897 126.97950045\n",
      " 165.83130008 135.24210095 120.23280007 167.56539893 108.19029899\n",
      " 121.9120982  137.62930129 106.18349882]\n"
     ]
    }
   ],
   "source": [
    "print(test_data_prediction)\n"
   ]
  },
  {
   "cell_type": "code",
   "execution_count": 23,
   "id": "92fc617b",
   "metadata": {},
   "outputs": [
    {
     "name": "stdout",
     "output_type": "stream",
     "text": [
      "R squared error:  98.9151572386375 %\n"
     ]
    }
   ],
   "source": [
    "# error score calculation on the actual data i.e Y_test and predicted data - test_data_prediction\n",
    "error_score = metrics.r2_score(Y_test, test_data_prediction)\n",
    "print(\"R squared error: \", error_score*100,\"%\") "
   ]
  },
  {
   "cell_type": "code",
   "execution_count": 21,
   "id": "ed98b504",
   "metadata": {},
   "outputs": [],
   "source": [
    "#real good error as compared to the values \n",
    "#Comparison of actual and predicted values\n",
    "Y_test = list(Y_test)"
   ]
  },
  {
   "cell_type": "code",
   "execution_count": 22,
   "id": "ea2af041",
   "metadata": {},
   "outputs": [
    {
     "data": {
      "image/png": "[encoded data removed]",
      "text/plain": [
       "<Figure size 432x288 with 1 Axes>"
      ]
     },
     "metadata": {
      "needs_background": "light"
     },
     "output_type": "display_data"
    }
   ],
   "source": [
    "\n",
    "plt.plot(Y_test, color = 'red', label = 'Actual Value')\n",
    "plt.plot(test_data_prediction, color='black', label= 'Predicted Value')\n",
    "plt.title('Actual Price VS Predicted Price ')\n",
    "plt.xlabel('Number of Values ')\n",
    "plt.ylabel('Gold Price')\n",
    "plt.legend()\n",
    "plt.show()"
   ]
  },
  {
   "cell_type": "code",
   "execution_count": 48,
   "id": "a7ec6417",
   "metadata": {},
   "outputs": [
    {
     "data": {
      "text/plain": [
       "3"
      ]
     },
     "execution_count": 48,
     "metadata": {},
     "output_type": "execute_result"
    }
   ],
   "source": [
    "1+2"
   ]
  },
  {
   "cell_type": "code",
   "execution_count": null,
   "id": "348c09de",
   "metadata": {},
   "outputs": [],
   "source": []
  },
  {
   "cell_type": "code",
   "execution_count": null,
   "id": "b0345143",
   "metadata": {},
   "outputs": [],
   "source": []
  }
 ],
 "metadata": {
  "kernelspec": {
   "display_name": "Python 3",
   "language": "python",
   "name": "python3"
  },
  "language_info": {
   "codemirror_mode": {
    "name": "ipython",
    "version": 3
   },
   "file_extension": ".py",
   "mimetype": "text/x-python",
   "name": "python",
   "nbconvert_exporter": "python",
   "pygments_lexer": "ipython3",
   "version": "3.8.8"
  }
 },
 "nbformat": 4,
 "nbformat_minor": 5
}
